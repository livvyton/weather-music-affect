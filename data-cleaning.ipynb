{
 "cells": [
  {
   "cell_type": "code",
   "execution_count": null,
   "metadata": {},
   "outputs": [],
   "source": [
    "import pandas as pd\n",
    "import numpy as np\n"
   ]
  },
  {
   "cell_type": "code",
   "execution_count": null,
   "metadata": {},
   "outputs": [],
   "source": [
    "finale = [\"data/combined_explicit.csv\"]"
   ]
  },
  {
   "cell_type": "code",
   "execution_count": null,
   "metadata": {},
   "outputs": [],
   "source": [
    "##create for loop to cast csv into the correct dtype\n",
    "\n",
    "for i in finale:\n",
    "    dtypes = {\"Position\":\"int64\",\"Track Name\":\"object\",\"Artist\" :\"object\",\"Streams\": \"int64\",\"region\":\"object\",\"spotify_id\" :\"object\",\"temp\":\"int64\",\"cloud\":\"int64\",\"humidity\": \"int64\",\"snow\":\"int64\",\"rain\":\"int64\",\"danceability\":\"float64\",\"energy\":\"float64\",\"key\":\"float64\",\"loudness\":\"float64\",\"mode\":\"float64\",\"speechiness\":\"float64\",\"acousticness\":\"float64\",\"instrumentalness\":\"float64\",\"liveness\":\"float64\",\"valence\":\"float64\",\"tempo\":\"float64\",\"type\":\"object\",\"id\":\"object\",\"uri\":\"object\",\"track_href\":\"object\",\"analysis_url\":\"object\",\"duration_ms\":\"float64\",\"time_signature\":\"float64\",\"audio_features\":\"object\", \"explicit\": \"float64\"}\n",
    "    date_cols = ['date']\n",
    "    df = pd.read_csv(i, sep=',',header=0,  dtype=dtypes, parse_dates=date_cols)\n",
    "    \n",
    "    "
   ]
  },
  {
   "cell_type": "code",
   "execution_count": null,
   "metadata": {},
   "outputs": [],
   "source": [
    "##Check dtypes\n",
    "\n",
    "df.dtypes"
   ]
  },
  {
   "cell_type": "code",
   "execution_count": null,
   "metadata": {},
   "outputs": [],
   "source": [
    "## delete Turkey\n",
    "\n",
    "df = df[~df.region.str.contains(\"tr\")]\n",
    "\n",
    "## add month\n",
    "\n",
    "df['month'] = df['date'].dt.month\n",
    "\n",
    "## add constant for lin_reg\n",
    "\n",
    "df = df.assign(const=1)"
   ]
  },
  {
   "cell_type": "code",
   "execution_count": null,
   "metadata": {},
   "outputs": [],
   "source": [
    "## change regions into ISO-3 for mapping\n",
    "\n",
    "df[\"region\"] = df[\"region\"].str.replace(\"at\",\"AUT\")\n",
    "df[\"region\"] = df[\"region\"].str.replace(\"be\",\"BEL\")\n",
    "df[\"region\"] = df[\"region\"].str.replace(\"ch\",\"CHE\")\n",
    "df[\"region\"] = df[\"region\"].str.replace(\"de\",\"DEU\")\n",
    "df[\"region\"] = df[\"region\"].str.replace(\"dk\",\"DNK\")\n",
    "df[\"region\"] = df[\"region\"].str.replace(\"es\",\"ESP\")\n",
    "df[\"region\"] = df[\"region\"].str.replace(\"fi\",\"FIN\")\n",
    "df[\"region\"] = df[\"region\"].str.replace(\"fr\",\"FRA\")\n",
    "df[\"region\"] = df[\"region\"].str.replace(\"gr\",\"GRC\")\n",
    "df[\"region\"] = df[\"region\"].str.replace(\"hu\",\"HUN\")\n",
    "df[\"region\"] = df[\"region\"].str.replace(\"ie\",\"IRL\")\n",
    "df[\"region\"] = df[\"region\"].str.replace(\"is\",\"ISL\")\n",
    "df[\"region\"] = df[\"region\"].str.replace(\"it\",\"ITA\")\n",
    "df[\"region\"] = df[\"region\"].str.replace(\"nl\",\"NLD\")\n",
    "df[\"region\"] = df[\"region\"].str.replace(\"no\",\"NOR\")\n",
    "df[\"region\"] = df[\"region\"].str.replace(\"pl\",\"POL\")\n",
    "df[\"region\"] = df[\"region\"].str.replace(\"pt\",\"PRT\")\n",
    "df[\"region\"] = df[\"region\"].str.replace(\"ro\",\"ROU\")\n",
    "df[\"region\"] = df[\"region\"].str.replace(\"se\",\"SWE\")\n",
    "df[\"region\"] = df[\"region\"].str.replace(\"sk\",\"SVK\")\n"
   ]
  },
  {
   "cell_type": "code",
   "execution_count": null,
   "metadata": {},
   "outputs": [],
   "source": [
    "## check for NaN's\n",
    "isna = df.isna().sum()\n",
    "df.loc[isna]"
   ]
  },
  {
   "cell_type": "code",
   "execution_count": null,
   "metadata": {},
   "outputs": [],
   "source": [
    "## check if theres any duplicates\n",
    "\n",
    "df.duplicated(subset=None, keep='first').sum()"
   ]
  },
  {
   "cell_type": "code",
   "execution_count": null,
   "metadata": {},
   "outputs": [],
   "source": [
    "## drop all features that aren't valuable or more then 90% NaN\n",
    "\n",
    "dropped=['audio_features','duration_ms', 'time_signature', 'track_href', 'uri', 'analysis_url', 'type', 'id', 'mode']"
   ]
  },
  {
   "cell_type": "code",
   "execution_count": null,
   "metadata": {},
   "outputs": [],
   "source": [
    "df = df.drop(columns=dropped)"
   ]
  },
  {
   "cell_type": "code",
   "execution_count": null,
   "metadata": {},
   "outputs": [],
   "source": [
    "## make columns lowercase for a clean look\n",
    "\n",
    "df = df.rename(columns={\"Artist\": \"artist\", \"Position\": \"position\", \"Track Name\": \"track_name\", \"Streams\": \"streams\"})"
   ]
  },
  {
   "cell_type": "code",
   "execution_count": null,
   "metadata": {},
   "outputs": [],
   "source": [
    "feature = ['acousticness','danceability', 'energy', 'instrumentalness', 'key','liveness', 'loudness', 'speechiness', 'temp', 'tempo', 'valence']\n",
    "country = ['is','se','fi','se','at','sk','ro','no','ch','nl','de','be','fr','ie','pl','hu','dk','es','pt','gr','it']"
   ]
  },
  {
   "cell_type": "code",
   "execution_count": null,
   "metadata": {},
   "outputs": [],
   "source": [
    "## used a weighted mean by streams so that each measurement is relative the country \n",
    "\n",
    "\n",
    "for i in feature:\n",
    "    for j in country:\n",
    "    # Define a lambda function to compute the weighted mean:\n",
    "        \n",
    "        wm = lambda x: np.average(x, weights=df.loc[x.index, \"streams\"])\n",
    "    \n",
    "    # Define a dictionary with the functions to apply for a given column:\n",
    "        f = { i : {'weighted_mean' : wm} }\n",
    "        \n",
    "    \n",
    "    # Groupby and aggregate with your dictionary:\n",
    "        weight = df.groupby([\"month\",\"region\"]).agg(f)\n",
    "        \n",
    "    # Export to csv\n",
    "        weight.to_csv(f\"{j}_{i}\", index=True)\n",
    "        \n",
    "        "
   ]
  },
  {
   "cell_type": "code",
   "execution_count": null,
   "metadata": {},
   "outputs": [],
   "source": [
    "## round all numbers to 2 decimals places\n",
    "\n",
    "df = df.round(2)"
   ]
  },
  {
   "cell_type": "code",
   "execution_count": null,
   "metadata": {},
   "outputs": [],
   "source": [
    "df.columns"
   ]
  },
  {
   "cell_type": "code",
   "execution_count": null,
   "metadata": {},
   "outputs": [],
   "source": [
    "## rearrange columns for ease of use\n",
    "\n",
    "cols = ['region', 'date', 'month','spotify_id', 'artist', 'track_name','position', 'streams','danceability', 'energy', 'instrumentalness', 'key',\n",
    "       'liveness', 'loudness', 'speechiness', 'acousticness', 'tempo', 'valence', 'explicit','temp', 'rain', 'snow',  'cloud', 'humidity', 'const']\n",
    "\n",
    "df = df[cols] "
   ]
  },
  {
   "cell_type": "code",
   "execution_count": null,
   "metadata": {},
   "outputs": [],
   "source": [
    "## final dataframe\n",
    "\n",
    "df"
   ]
  },
  {
   "cell_type": "code",
   "execution_count": null,
   "metadata": {},
   "outputs": [],
   "source": [
    "##convert df to pickle so that it keeps all the correct dtypes\n",
    "\n",
    "df.to_pickle('final_spotify.pkl')"
   ]
  }
 ],
 "metadata": {
  "kernelspec": {
   "display_name": "Python 3",
   "language": "python",
   "name": "python3"
  },
  "language_info": {
   "codemirror_mode": {
    "name": "ipython",
    "version": 3
   },
   "file_extension": ".py",
   "mimetype": "text/x-python",
   "name": "python",
   "nbconvert_exporter": "python",
   "pygments_lexer": "ipython3",
   "version": "3.7.0"
  }
 },
 "nbformat": 4,
 "nbformat_minor": 2
}
